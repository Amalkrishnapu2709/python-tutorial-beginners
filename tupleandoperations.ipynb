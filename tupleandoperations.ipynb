{
 "cells": [
  {
   "cell_type": "raw",
   "id": "f2d93b2f-e9f3-4fb0-8678-9cca1ce41173",
   "metadata": {},
   "source": [
    "1.create a tuple of any 5 items print the tuple\n",
    "  access second item from the tuple\n",
    "  print last 3 items  in the tuple\n",
    "  length of the tuple\n"
   ]
  },
  {
   "cell_type": "code",
   "execution_count": 8,
   "id": "3726325f-557f-428b-9f9d-e0c5c0d596f2",
   "metadata": {},
   "outputs": [
    {
     "name": "stdout",
     "output_type": "stream",
     "text": [
      "(1, 2, 3, 4, 5)\n"
     ]
    }
   ],
   "source": [
    "#create a tuple of any 5 items print the tuple\n",
    "myTuple=(1,2,3,4,5,)\n",
    "print(myTuple1)"
   ]
  },
  {
   "cell_type": "code",
   "execution_count": 9,
   "id": "f337ae11-e56f-48b7-9dae-82e7d935ad1c",
   "metadata": {},
   "outputs": [
    {
     "name": "stdout",
     "output_type": "stream",
     "text": [
      "2\n"
     ]
    }
   ],
   "source": [
    "#access second item from the tuple\n",
    "print(myTuple[1])\n"
   ]
  },
  {
   "cell_type": "code",
   "execution_count": 15,
   "id": "2b5ad549-bc1f-4439-a130-b2f48cfc73ae",
   "metadata": {},
   "outputs": [
    {
     "name": "stdout",
     "output_type": "stream",
     "text": [
      "(3, 4, 5)\n"
     ]
    }
   ],
   "source": [
    "#print last 3 items  in the tuple\n",
    "print(myTuple[2::])"
   ]
  },
  {
   "cell_type": "code",
   "execution_count": null,
   "id": "8635f6ca-4225-49cd-8fda-8c3ebb7a0b59",
   "metadata": {},
   "outputs": [],
   "source": [
    "#length of the tuple\n",
    "print(len(myTuple)"
   ]
  },
  {
   "cell_type": "raw",
   "id": "212f7154-66e8-42ea-8098-69f2d77e73e7",
   "metadata": {},
   "source": [
    "2.create a tuple of 3 items \n",
    "    print the tuple\n",
    "    update the value in third item in the tuple\n",
    "    add a item to the tuple\n",
    "    merge two tuples"
   ]
  },
  {
   "cell_type": "code",
   "execution_count": 16,
   "id": "70115cf8-1102-4647-be03-efe3cb38f643",
   "metadata": {},
   "outputs": [
    {
     "name": "stdout",
     "output_type": "stream",
     "text": [
      "('football', 'cricket', 'hockey')\n"
     ]
    }
   ],
   "source": [
    "#create a tuple of 3 items  print the tuple\n",
    "games=(\"football\",\"cricket\",\"hockey\")\n",
    "print(games)\n"
   ]
  },
  {
   "cell_type": "code",
   "execution_count": 19,
   "id": "e7f57e65-4ec7-4571-b3fa-245d8388d4da",
   "metadata": {},
   "outputs": [
    {
     "name": "stdout",
     "output_type": "stream",
     "text": [
      "('football', 'cricket', 'basketball')\n"
     ]
    }
   ],
   "source": [
    "#update the value in third item in the tuple\n",
    "x=list(games)\n",
    "x[2]=\"basketball\"\n",
    "games=tuple(x)\n",
    "print(games)\n"
   ]
  },
  {
   "cell_type": "code",
   "execution_count": 20,
   "id": "fe0cfd3c-4638-433f-af57-fecd5b3f149d",
   "metadata": {},
   "outputs": [
    {
     "name": "stdout",
     "output_type": "stream",
     "text": [
      "('football', 'cricket', 'basketball', 'tennis')\n"
     ]
    }
   ],
   "source": [
    "#add a item to the tuple\n",
    "y=list(games)\n",
    "y.append(\"tennis\")\n",
    "games=tuple(y)\n",
    "print(games)\n"
   ]
  },
  {
   "cell_type": "code",
   "execution_count": 21,
   "id": "3fe1a6a8-665e-425e-bb4c-b426bf695471",
   "metadata": {},
   "outputs": [
    {
     "name": "stdout",
     "output_type": "stream",
     "text": [
      "(1, 2, 3, 4, 5, 'football', 'cricket', 'basketball', 'tennis')\n"
     ]
    }
   ],
   "source": [
    "#  merge two tuples\n",
    "x=myTuple+games\n",
    "print(x)"
   ]
  },
  {
   "cell_type": "code",
   "execution_count": null,
   "id": "423f86d1-b045-4e38-9a9f-3b0be4f93d2e",
   "metadata": {},
   "outputs": [],
   "source": []
  }
 ],
 "metadata": {
  "kernelspec": {
   "display_name": "Python 3 (ipykernel)",
   "language": "python",
   "name": "python3"
  },
  "language_info": {
   "codemirror_mode": {
    "name": "ipython",
    "version": 3
   },
   "file_extension": ".py",
   "mimetype": "text/x-python",
   "name": "python",
   "nbconvert_exporter": "python",
   "pygments_lexer": "ipython3",
   "version": "3.12.7"
  }
 },
 "nbformat": 4,
 "nbformat_minor": 5
}
