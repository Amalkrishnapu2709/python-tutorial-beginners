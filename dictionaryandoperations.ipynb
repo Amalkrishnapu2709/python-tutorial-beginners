{
 "cells": [
  {
   "cell_type": "raw",
   "id": "a2a68537-e2dc-412b-921c-f29baf962d3b",
   "metadata": {},
   "source": [
    "Dictionary\n",
    "*create a dictionary of students\n",
    "    print the dictionary\n",
    "    print 3rd student \n",
    "    add one more student to it\n",
    "    update the name of second student\n",
    "    remove felix from the list\n"
   ]
  },
  {
   "cell_type": "code",
   "execution_count": 1,
   "id": "f27ab3f5-80d4-4e16-8ca5-a07f2b840ea8",
   "metadata": {},
   "outputs": [
    {
     "name": "stdout",
     "output_type": "stream",
     "text": [
      "{1: 'john', 2: 'samuel', 3: 'alex', 4: 'felix'}\n"
     ]
    }
   ],
   "source": [
    "students={1:\"john\",2:\"samuel\",3:\"alex\",4:\"felix\"}\n",
    "print(students)"
   ]
  },
  {
   "cell_type": "code",
   "execution_count": 2,
   "id": "4f97ff6b-9c1c-48cd-baf1-c982b46d2df5",
   "metadata": {},
   "outputs": [
    {
     "name": "stdout",
     "output_type": "stream",
     "text": [
      "alex\n"
     ]
    }
   ],
   "source": [
    "print(students[3])"
   ]
  },
  {
   "cell_type": "code",
   "execution_count": 3,
   "id": "5bf240a5-f836-4b8a-a4c3-e4168ec01006",
   "metadata": {},
   "outputs": [
    {
     "name": "stdout",
     "output_type": "stream",
     "text": [
      "{1: 'john', 2: 'samuel', 3: 'alex', 4: 'felix', 5: 'peter'}\n"
     ]
    }
   ],
   "source": [
    "students[5]=\"peter\"\n",
    "print(students)"
   ]
  },
  {
   "cell_type": "code",
   "execution_count": 4,
   "id": "fdcd338b-1872-4cae-9311-3ca43138409a",
   "metadata": {},
   "outputs": [
    {
     "name": "stdout",
     "output_type": "stream",
     "text": [
      "{1: 'john', 2: 'dennis', 3: 'alex', 4: 'felix', 5: 'peter'}\n"
     ]
    }
   ],
   "source": [
    "students[2]=\"dennis\"\n",
    "print(students)"
   ]
  },
  {
   "cell_type": "code",
   "execution_count": 7,
   "id": "c92917c6-13d6-4263-8946-7c41bd156c77",
   "metadata": {},
   "outputs": [
    {
     "name": "stdout",
     "output_type": "stream",
     "text": [
      "{1: 'john', 2: 'dennis', 3: 'alex', 5: 'peter'}\n"
     ]
    }
   ],
   "source": [
    "students.pop(4)\n",
    "print(students)"
   ]
  },
  {
   "cell_type": "code",
   "execution_count": null,
   "id": "32b0d828-3dfd-43ef-9e98-61a62603f805",
   "metadata": {},
   "outputs": [],
   "source": []
  }
 ],
 "metadata": {
  "kernelspec": {
   "display_name": "Python 3 (ipykernel)",
   "language": "python",
   "name": "python3"
  },
  "language_info": {
   "codemirror_mode": {
    "name": "ipython",
    "version": 3
   },
   "file_extension": ".py",
   "mimetype": "text/x-python",
   "name": "python",
   "nbconvert_exporter": "python",
   "pygments_lexer": "ipython3",
   "version": "3.12.7"
  }
 },
 "nbformat": 4,
 "nbformat_minor": 5
}
