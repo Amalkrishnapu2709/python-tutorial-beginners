{
 "cells": [
  {
   "cell_type": "raw",
   "id": "ddc96c4e-383b-422b-abb3-18d6d3fb929d",
   "metadata": {},
   "source": [
    "Create a List of any 10 items.\n",
    "Print the list\n",
    "Print 7th, item\n",
    "Print 3rd  ,9th  items\n",
    "Print 5  items to the end\n"
   ]
  },
  {
   "cell_type": "code",
   "execution_count": 1,
   "id": "f2a314fc-d5e7-4a82-8ad4-7ba828e53198",
   "metadata": {},
   "outputs": [
    {
     "name": "stdout",
     "output_type": "stream",
     "text": [
      "[1, 23, 2, 12, 34, 67, 89, 56, 9, 44]\n"
     ]
    }
   ],
   "source": [
    "numbers=[1,23,2,12,34,67,89,56,9,44]\n",
    "print(numbers)"
   ]
  },
  {
   "cell_type": "code",
   "execution_count": 2,
   "id": "63a1bd7c-6e68-4b06-abca-b80cf3905544",
   "metadata": {},
   "outputs": [
    {
     "name": "stdout",
     "output_type": "stream",
     "text": [
      "89\n"
     ]
    }
   ],
   "source": [
    "print(numbers[-4])\n"
   ]
  },
  {
   "cell_type": "code",
   "execution_count": 5,
   "id": "3513f071-def5-4ffb-98b8-04d72ae70a30",
   "metadata": {},
   "outputs": [
    {
     "name": "stdout",
     "output_type": "stream",
     "text": [
      "2 9\n"
     ]
    }
   ],
   "source": [
    "print(numbers[2],numbers[-2])"
   ]
  },
  {
   "cell_type": "code",
   "execution_count": 6,
   "id": "801091c6-a32c-43cc-b8b5-64c83d5a4377",
   "metadata": {},
   "outputs": [
    {
     "name": "stdout",
     "output_type": "stream",
     "text": [
      "[67, 89, 56, 9, 44]\n"
     ]
    }
   ],
   "source": [
    "print(numbers[5:])"
   ]
  },
  {
   "cell_type": "raw",
   "id": "b2c8dce5-bb02-4280-b2c4-c4026de5bf8f",
   "metadata": {},
   "source": [
    "Create a list of any 5 items\n",
    "Add  a new item at the end of the list\n",
    "Insert a new item at the 3rd position\n",
    "Merge the fist list with the second one\n"
   ]
  },
  {
   "cell_type": "code",
   "execution_count": 7,
   "id": "aa33af5d-a125-4234-9c29-d9de7e3800ac",
   "metadata": {},
   "outputs": [
    {
     "name": "stdout",
     "output_type": "stream",
     "text": [
      "['red', 'green', 'blue', 'yellow', 'black']\n"
     ]
    }
   ],
   "source": [
    "colors=[\"red\",\"green\",\"blue\",\"yellow\",\"black\"]\n",
    "print(colors)"
   ]
  },
  {
   "cell_type": "code",
   "execution_count": 8,
   "id": "385ef267-1369-4aa9-a576-debca9dace5b",
   "metadata": {},
   "outputs": [
    {
     "name": "stdout",
     "output_type": "stream",
     "text": [
      "['red', 'green', 'blue', 'yellow', 'black', 'orange']\n"
     ]
    }
   ],
   "source": [
    "colors.append(\"orange\")\n",
    "print(colors)"
   ]
  },
  {
   "cell_type": "code",
   "execution_count": 9,
   "id": "d37f0712-2665-4973-b5c4-a3e9ae71d67f",
   "metadata": {},
   "outputs": [
    {
     "name": "stdout",
     "output_type": "stream",
     "text": [
      "['red', 'green', 'white', 'blue', 'yellow', 'black', 'orange']\n"
     ]
    }
   ],
   "source": [
    "colors.insert(2,\"white\")\n",
    "print(colors)"
   ]
  },
  {
   "cell_type": "code",
   "execution_count": 10,
   "id": "5f72f947-bd3f-41b3-8fa2-f75b1a1ec59c",
   "metadata": {},
   "outputs": [
    {
     "name": "stdout",
     "output_type": "stream",
     "text": [
      "['red', 'green', 'white', 'blue', 'yellow', 'black', 'orange', 1, 23, 2, 12, 34, 67, 89, 56, 9, 44]\n"
     ]
    }
   ],
   "source": [
    "colors.extend(numbers)\n",
    "print(colors)"
   ]
  },
  {
   "cell_type": "code",
   "execution_count": null,
   "id": "440ff3f3-f8f9-4bdc-8328-7bfbbc8cfdd0",
   "metadata": {},
   "outputs": [],
   "source": []
  }
 ],
 "metadata": {
  "kernelspec": {
   "display_name": "Python 3 (ipykernel)",
   "language": "python",
   "name": "python3"
  },
  "language_info": {
   "codemirror_mode": {
    "name": "ipython",
    "version": 3
   },
   "file_extension": ".py",
   "mimetype": "text/x-python",
   "name": "python",
   "nbconvert_exporter": "python",
   "pygments_lexer": "ipython3",
   "version": "3.12.7"
  }
 },
 "nbformat": 4,
 "nbformat_minor": 5
}
