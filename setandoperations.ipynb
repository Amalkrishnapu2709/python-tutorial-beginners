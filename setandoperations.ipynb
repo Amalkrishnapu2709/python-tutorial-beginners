{
 "cells": [
  {
   "cell_type": "markdown",
   "id": "a2a580ac-5b92-414e-b018-c0e737b01526",
   "metadata": {},
   "source": [
    "1.create a set of 5 items,\n",
    "    a)print the set,\n",
    "    b)add a item to the set,\n",
    "    c)remove a item from the set,\n",
    "    "
   ]
  },
  {
   "cell_type": "code",
   "execution_count": 1,
   "id": "edceceec-afc8-462b-a83b-01f1b2cb92f3",
   "metadata": {},
   "outputs": [
    {
     "name": "stdout",
     "output_type": "stream",
     "text": [
      "{50, 20, 40, 10, 30}\n"
     ]
    }
   ],
   "source": [
    "myset={10,20,30,40,50}\n",
    "print(myset)"
   ]
  },
  {
   "cell_type": "code",
   "execution_count": 2,
   "id": "0903db98-4d1e-4e18-b557-47811ae5e5d9",
   "metadata": {},
   "outputs": [
    {
     "name": "stdout",
     "output_type": "stream",
     "text": [
      "{50, 20, 40, 10, 60, 30}\n"
     ]
    }
   ],
   "source": [
    "myset.add(60)\n",
    "print(myset)\n"
   ]
  },
  {
   "cell_type": "code",
   "execution_count": 8,
   "id": "c4ece1fd-495f-4350-833f-acd21e04d732",
   "metadata": {},
   "outputs": [
    {
     "name": "stdout",
     "output_type": "stream",
     "text": [
      "{50, 20, 40, 10, 60, 30}\n"
     ]
    }
   ],
   "source": [
    "print(myset)"
   ]
  },
  {
   "cell_type": "code",
   "execution_count": 9,
   "id": "e51db5a9-3e14-41ba-81e9-c38f57e0ac69",
   "metadata": {},
   "outputs": [
    {
     "name": "stdout",
     "output_type": "stream",
     "text": [
      "{50, 20, 40, 60, 30}\n"
     ]
    }
   ],
   "source": [
    "myset.remove(10)\n",
    "print(myset)"
   ]
  },
  {
   "cell_type": "markdown",
   "id": "73b2e35e-b32d-441c-923b-09e48fbf9594",
   "metadata": {},
   "source": [
    "2.create a set with 3 items,\n",
    "    a)merge two sets,\n",
    "    b)length of the set, \n",
    "    c)clear all the items in set.\n"
   ]
  },
  {
   "cell_type": "code",
   "execution_count": 10,
   "id": "1a3cfab2-7881-4dbc-8dc4-6e4edef4d695",
   "metadata": {},
   "outputs": [
    {
     "name": "stdout",
     "output_type": "stream",
     "text": [
      "{'mustang', 'ford', 'bmw'}\n"
     ]
    }
   ],
   "source": [
    "cars={\"bmw\",\"ford\",\"mustang\"}\n",
    "print(cars)"
   ]
  },
  {
   "cell_type": "code",
   "execution_count": 13,
   "id": "6985c7d3-6775-4bc3-81b3-984e7f636e64",
   "metadata": {},
   "outputs": [
    {
     "name": "stdout",
     "output_type": "stream",
     "text": [
      "{40, 50, 20, 'mustang', 'ford', 'bmw', 60, 30}\n"
     ]
    }
   ],
   "source": [
    "cars.update(myset)\n",
    "print(myset)"
   ]
  },
  {
   "cell_type": "code",
   "execution_count": 14,
   "id": "52f9caa3-aa06-49fc-8653-88fc9723d266",
   "metadata": {},
   "outputs": [
    {
     "name": "stdout",
     "output_type": "stream",
     "text": [
      "8\n"
     ]
    }
   ],
   "source": [
    "print(len(cars))"
   ]
  },
  {
   "cell_type": "code",
   "execution_count": 16,
   "id": "7ada1585-d0af-4c3c-9ede-bcdf97eda8e2",
   "metadata": {},
   "outputs": [
    {
     "name": "stdout",
     "output_type": "stream",
     "text": [
      "set()\n"
     ]
    }
   ],
   "source": [
    "cars.clear()\n",
    "print(cars)"
   ]
  },
  {
   "cell_type": "code",
   "execution_count": 17,
   "id": "3e2e2599-f9f1-490f-8252-7b4d458f1b3b",
   "metadata": {},
   "outputs": [],
   "source": [
    "del cars"
   ]
  },
  {
   "cell_type": "code",
   "execution_count": null,
   "id": "292316bc-0a53-4384-afe4-efe28c977796",
   "metadata": {},
   "outputs": [],
   "source": []
  }
 ],
 "metadata": {
  "kernelspec": {
   "display_name": "Python 3 (ipykernel)",
   "language": "python",
   "name": "python3"
  },
  "language_info": {
   "codemirror_mode": {
    "name": "ipython",
    "version": 3
   },
   "file_extension": ".py",
   "mimetype": "text/x-python",
   "name": "python",
   "nbconvert_exporter": "python",
   "pygments_lexer": "ipython3",
   "version": "3.12.7"
  }
 },
 "nbformat": 4,
 "nbformat_minor": 5
}
