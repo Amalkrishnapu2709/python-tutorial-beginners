{
 "cells": [
  {
   "cell_type": "raw",
   "id": "5ff1935e-3afb-4a18-bcdd-70c9bc28f1c9",
   "metadata": {},
   "source": [
    "WPP to get a number dynamically(run time),calculate its cube and print it."
   ]
  },
  {
   "cell_type": "code",
   "execution_count": 1,
   "id": "cecdd626-cb06-4aff-912f-e5f1ad894dc5",
   "metadata": {},
   "outputs": [
    {
     "name": "stdin",
     "output_type": "stream",
     "text": [
      "enter the number: 2\n"
     ]
    },
    {
     "name": "stdout",
     "output_type": "stream",
     "text": [
      "8\n"
     ]
    }
   ],
   "source": [
    "number=int(input(\"enter the number:\"))\n",
    "cube=number**3\n",
    "print(cube)"
   ]
  },
  {
   "cell_type": "raw",
   "id": "e3ef04c7-4be7-433f-bb5f-9dcbe2eaae47",
   "metadata": {},
   "source": [
    "WPP to get two numbers dynamically .Perform all arithmetic operations "
   ]
  },
  {
   "cell_type": "code",
   "execution_count": 2,
   "id": "055fd6dc-1ca1-4f28-b5a5-382572c8d0e4",
   "metadata": {},
   "outputs": [
    {
     "name": "stdin",
     "output_type": "stream",
     "text": [
      "firstnumber: 10\n",
      "secondnumber: 2\n"
     ]
    },
    {
     "name": "stdout",
     "output_type": "stream",
     "text": [
      "addition: 12\n",
      "subtraction: 8\n",
      "multiplication: 20\n",
      "division: 5.0\n",
      "modulo: 0\n",
      "power: 100\n"
     ]
    }
   ],
   "source": [
    "num1,num2=int(input(\"firstnumber:\")),int(input(\"secondnumber:\"))\n",
    "\n",
    "add=num1+num2\n",
    "sub=num1-num2\n",
    "mul=num1*num2\n",
    "div=num1/num2\n",
    "modulo=num1%num2\n",
    "p=num1**num2\n",
    "\n",
    "print(\"addition:\",add)       \n",
    "print(\"subtraction:\",sub)\n",
    "print(\"multiplication:\",mul)\n",
    "print(\"division:\",div)\n",
    "print(\"modulo:\",modulo)\n",
    "print(\"power:\",p)\n"
   ]
  },
  {
   "cell_type": "raw",
   "id": "b7d9b361-53f0-45ad-92b1-d1841d3f6ee0",
   "metadata": {},
   "source": [
    "WPP to get student name and her 3marks.Print the name of student and her total mark."
   ]
  },
  {
   "cell_type": "code",
   "execution_count": 7,
   "id": "3e7a8ddd-3742-44bb-9e2e-00ad5b66527e",
   "metadata": {},
   "outputs": [
    {
     "name": "stdin",
     "output_type": "stream",
     "text": [
      "enter student name: samuel\n",
      "mark1: 45\n",
      "mark2: 63\n",
      "mark3: 93\n"
     ]
    },
    {
     "name": "stdout",
     "output_type": "stream",
     "text": [
      "name: samuel\n",
      "total mark: 201\n"
     ]
    }
   ],
   "source": [
    "stdName,mark1,mark2,mark3 = input(\"enter student name:\"),int(input(\"mark1:\")),int(input(\"mark2:\")),int(input(\"mark3:\"))\n",
    "totalMark=mark1+mark2+mark3\n",
    "print(\"name:\",stdName +\"\\ntotal mark:\", totalMark)"
   ]
  },
  {
   "cell_type": "code",
   "execution_count": null,
   "id": "889a31de-27d9-4452-bd7b-ade3d6ae5790",
   "metadata": {},
   "outputs": [],
   "source": []
  }
 ],
 "metadata": {
  "kernelspec": {
   "display_name": "Python 3 (ipykernel)",
   "language": "python",
   "name": "python3"
  },
  "language_info": {
   "codemirror_mode": {
    "name": "ipython",
    "version": 3
   },
   "file_extension": ".py",
   "mimetype": "text/x-python",
   "name": "python",
   "nbconvert_exporter": "python",
   "pygments_lexer": "ipython3",
   "version": "3.12.7"
  }
 },
 "nbformat": 4,
 "nbformat_minor": 5
}
